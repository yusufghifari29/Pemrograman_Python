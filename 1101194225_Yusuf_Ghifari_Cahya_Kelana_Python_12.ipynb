{
  "nbformat": 4,
  "nbformat_minor": 0,
  "metadata": {
    "colab": {
      "name": "1101194225_Yusuf Ghifari Cahya Kelana_Python 12.ipynb",
      "provenance": [],
      "collapsed_sections": [],
      "include_colab_link": true
    },
    "kernelspec": {
      "name": "python3",
      "display_name": "Python 3"
    }
  },
  "cells": [
    {
      "cell_type": "markdown",
      "metadata": {
        "id": "view-in-github",
        "colab_type": "text"
      },
      "source": [
        "<a href=\"https://colab.research.google.com/github/yusufghifari29/Pemrograman_Python/blob/main/1101194225_Yusuf_Ghifari_Cahya_Kelana_Python_12.ipynb\" target=\"_parent\"><img src=\"https://colab.research.google.com/assets/colab-badge.svg\" alt=\"Open In Colab\"/></a>"
      ]
    },
    {
      "cell_type": "code",
      "metadata": {
        "id": "7r5atT2gRlNU"
      },
      "source": [
        "import numpy as np"
      ],
      "execution_count": null,
      "outputs": []
    },
    {
      "cell_type": "code",
      "metadata": {
        "id": "drHxu6UNsRqR"
      },
      "source": [
        "#Pathloss\r\n",
        "def pathloss(d,fc,area,ht,hr):\r\n",
        "  if fc >= 400 and fc <= 1500:\r\n",
        "    C1 = 69.55\r\n",
        "    C2 = 26.16\r\n",
        "  elif fc > 1500 and fc <= 2000:\r\n",
        "    C1 = 46.3\r\n",
        "    C2 = 33.9\r\n",
        "  if area == '1':\r\n",
        "    cm = 0\r\n",
        "  elif area == '2':\r\n",
        "    cm = -2*(np.log10(fc/28))**2 - 5.4  \r\n",
        "  elif area == '3':\r\n",
        "    cm = -4.78*(np.log10(fc))**2 + 18.33*np.log10(fc) - 40.94\r\n",
        "  \r\n",
        "  d = d*1e3\r\n",
        "  fc = fc*1e6\r\n",
        "  ahr = (1.1 *np.log10(fc) - 0.7)*hr - (1.56 * np.log10(fc) - 0.8)\r\n",
        "  PL = C1+C2*np.log10(fc) - 13.83*np.log10(ht) - ahr + (44.9 - 6.55*np.log10(ht))*np.log10(d) + cm\r\n",
        "\r\n",
        "  return PL"
      ],
      "execution_count": null,
      "outputs": []
    },
    {
      "cell_type": "code",
      "metadata": {
        "id": "uSzZbxBQeuoe"
      },
      "source": [
        "#Input Data Parameter\r\n",
        "d = int(input(\"Jarak dari Tx ke Rx (dKm) :\"))\r\n",
        "fc = int(input(\"Frekuensi (400 s.d. 2000 MHz) (dMHz)  : \"))\r\n",
        "area = input(\"Pilih Tipe Area :\\n1. Urban \\n2. Suburban \\n3. Open \\nPilihan : \") \r\n",
        "ht = int(input(\"Tinggi Transmitter (30 s.d. 200 m) : \"))\r\n",
        "hr = int(input(\"Tinggi Receiver (1 s.d. 30 m) : \"))\r\n",
        "\r\n",
        "pl = pathloss(d,fc,area,ht,hr)\r\n",
        "print('Pathloss =',round(pl,2),'dB')"
      ],
      "execution_count": null,
      "outputs": []
    }
  ]
}